{
 "cells": [
  {
   "cell_type": "markdown",
   "id": "aabb9a16",
   "metadata": {},
   "source": [
    "# Homework 01 for Taxi Duration Prediction - Linear Regression Model"
   ]
  },
  {
   "cell_type": "markdown",
   "id": "f83c8712",
   "metadata": {},
   "source": [
    "## Display Python Version"
   ]
  },
  {
   "cell_type": "code",
   "execution_count": 1,
   "id": "82e92d1f",
   "metadata": {},
   "outputs": [
    {
     "name": "stdout",
     "output_type": "stream",
     "text": [
      "Python 3.12.1\n"
     ]
    }
   ],
   "source": [
    "!python -V"
   ]
  },
  {
   "cell_type": "markdown",
   "id": "087e0fb8",
   "metadata": {},
   "source": [
    "## Import Libraries"
   ]
  },
  {
   "cell_type": "code",
   "execution_count": null,
   "id": "72f71f3e",
   "metadata": {},
   "outputs": [],
   "source": [
    "# Import necessary libraries\n",
    "import pandas as pd  # For data manipulation and analysis\n",
    "import pickle  # For saving and loading serialized objects\n",
    "import seaborn as sns  # For data visualization\n",
    "import matplotlib.pyplot as plt  # For plotting graphs\n",
    "\n",
    "# Import classes and functions from scikit-learn\n",
    "from sklearn.feature_extraction import DictVectorizer  # For converting dictionaries to feature matrices\n",
    "from sklearn.linear_model import LinearRegression  # For linear regression modeling\n",
    "from sklearn.linear_model import Lasso  # For Lasso regression (L1 regularization)\n",
    "from sklearn.linear_model import Ridge  # For Ridge regression (L2 regularization)\n",
    "\n",
    "# Import metric for evaluating model performance\n",
    "from sklearn.metrics import root_mean_squared_error  # For calculating RMSE"
   ]
  },
  {
   "cell_type": "markdown",
   "id": "048e8ebe",
   "metadata": {},
   "source": [
    "## Install pyarrow"
   ]
  },
  {
   "cell_type": "code",
   "execution_count": 6,
   "id": "9cd0f1e7",
   "metadata": {},
   "outputs": [
    {
     "name": "stdout",
     "output_type": "stream",
     "text": [
      "Requirement already satisfied: pyarrow in /usr/local/python/3.12.1/lib/python3.12/site-packages (20.0.0)\n",
      "\n",
      "\u001b[1m[\u001b[0m\u001b[34;49mnotice\u001b[0m\u001b[1;39;49m]\u001b[0m\u001b[39;49m A new release of pip is available: \u001b[0m\u001b[31;49m25.0.1\u001b[0m\u001b[39;49m -> \u001b[0m\u001b[32;49m25.1.1\u001b[0m\n",
      "\u001b[1m[\u001b[0m\u001b[34;49mnotice\u001b[0m\u001b[1;39;49m]\u001b[0m\u001b[39;49m To update, run: \u001b[0m\u001b[32;49mpython3 -m pip install --upgrade pip\u001b[0m\n"
     ]
    }
   ],
   "source": [
    "!pip install pyarrow"
   ]
  },
  {
   "cell_type": "markdown",
   "id": "2f27edbb",
   "metadata": {},
   "source": [
    "## Read Yellow Taxi Trip Data for January 2023"
   ]
  },
  {
   "cell_type": "code",
   "execution_count": null,
   "id": "2a1a7118",
   "metadata": {},
   "outputs": [],
   "source": [
    "# Read the parquet file into a pandas DataFrame\n",
    "# The file contains taxi trip data for January 2023\n",
    "df = pd.read_parquet('../data/yellow_tripdata_2023-01.parquet')"
   ]
  },
  {
   "cell_type": "markdown",
   "id": "308c0d7f",
   "metadata": {},
   "source": [
    "### Number of Columns in the Jan 2023 yellow trip data"
   ]
  },
  {
   "cell_type": "code",
   "execution_count": 8,
   "id": "1256fe84",
   "metadata": {},
   "outputs": [
    {
     "data": {
      "text/plain": [
       "19"
      ]
     },
     "execution_count": 8,
     "metadata": {},
     "output_type": "execute_result"
    }
   ],
   "source": [
    "len(df.columns)"
   ]
  },
  {
   "cell_type": "code",
   "execution_count": 9,
   "id": "69898947",
   "metadata": {},
   "outputs": [
    {
     "data": {
      "text/html": [
       "<div>\n",
       "<style scoped>\n",
       "    .dataframe tbody tr th:only-of-type {\n",
       "        vertical-align: middle;\n",
       "    }\n",
       "\n",
       "    .dataframe tbody tr th {\n",
       "        vertical-align: top;\n",
       "    }\n",
       "\n",
       "    .dataframe thead th {\n",
       "        text-align: right;\n",
       "    }\n",
       "</style>\n",
       "<table border=\"1\" class=\"dataframe\">\n",
       "  <thead>\n",
       "    <tr style=\"text-align: right;\">\n",
       "      <th></th>\n",
       "      <th>VendorID</th>\n",
       "      <th>tpep_pickup_datetime</th>\n",
       "      <th>tpep_dropoff_datetime</th>\n",
       "      <th>passenger_count</th>\n",
       "      <th>trip_distance</th>\n",
       "      <th>RatecodeID</th>\n",
       "      <th>store_and_fwd_flag</th>\n",
       "      <th>PULocationID</th>\n",
       "      <th>DOLocationID</th>\n",
       "      <th>payment_type</th>\n",
       "      <th>fare_amount</th>\n",
       "      <th>extra</th>\n",
       "      <th>mta_tax</th>\n",
       "      <th>tip_amount</th>\n",
       "      <th>tolls_amount</th>\n",
       "      <th>improvement_surcharge</th>\n",
       "      <th>total_amount</th>\n",
       "      <th>congestion_surcharge</th>\n",
       "      <th>airport_fee</th>\n",
       "    </tr>\n",
       "  </thead>\n",
       "  <tbody>\n",
       "    <tr>\n",
       "      <th>0</th>\n",
       "      <td>2</td>\n",
       "      <td>2023-01-01 00:32:10</td>\n",
       "      <td>2023-01-01 00:40:36</td>\n",
       "      <td>1.0</td>\n",
       "      <td>0.97</td>\n",
       "      <td>1.0</td>\n",
       "      <td>N</td>\n",
       "      <td>161</td>\n",
       "      <td>141</td>\n",
       "      <td>2</td>\n",
       "      <td>9.3</td>\n",
       "      <td>1.00</td>\n",
       "      <td>0.5</td>\n",
       "      <td>0.00</td>\n",
       "      <td>0.0</td>\n",
       "      <td>1.0</td>\n",
       "      <td>14.30</td>\n",
       "      <td>2.5</td>\n",
       "      <td>0.00</td>\n",
       "    </tr>\n",
       "    <tr>\n",
       "      <th>1</th>\n",
       "      <td>2</td>\n",
       "      <td>2023-01-01 00:55:08</td>\n",
       "      <td>2023-01-01 01:01:27</td>\n",
       "      <td>1.0</td>\n",
       "      <td>1.10</td>\n",
       "      <td>1.0</td>\n",
       "      <td>N</td>\n",
       "      <td>43</td>\n",
       "      <td>237</td>\n",
       "      <td>1</td>\n",
       "      <td>7.9</td>\n",
       "      <td>1.00</td>\n",
       "      <td>0.5</td>\n",
       "      <td>4.00</td>\n",
       "      <td>0.0</td>\n",
       "      <td>1.0</td>\n",
       "      <td>16.90</td>\n",
       "      <td>2.5</td>\n",
       "      <td>0.00</td>\n",
       "    </tr>\n",
       "    <tr>\n",
       "      <th>2</th>\n",
       "      <td>2</td>\n",
       "      <td>2023-01-01 00:25:04</td>\n",
       "      <td>2023-01-01 00:37:49</td>\n",
       "      <td>1.0</td>\n",
       "      <td>2.51</td>\n",
       "      <td>1.0</td>\n",
       "      <td>N</td>\n",
       "      <td>48</td>\n",
       "      <td>238</td>\n",
       "      <td>1</td>\n",
       "      <td>14.9</td>\n",
       "      <td>1.00</td>\n",
       "      <td>0.5</td>\n",
       "      <td>15.00</td>\n",
       "      <td>0.0</td>\n",
       "      <td>1.0</td>\n",
       "      <td>34.90</td>\n",
       "      <td>2.5</td>\n",
       "      <td>0.00</td>\n",
       "    </tr>\n",
       "    <tr>\n",
       "      <th>3</th>\n",
       "      <td>1</td>\n",
       "      <td>2023-01-01 00:03:48</td>\n",
       "      <td>2023-01-01 00:13:25</td>\n",
       "      <td>0.0</td>\n",
       "      <td>1.90</td>\n",
       "      <td>1.0</td>\n",
       "      <td>N</td>\n",
       "      <td>138</td>\n",
       "      <td>7</td>\n",
       "      <td>1</td>\n",
       "      <td>12.1</td>\n",
       "      <td>7.25</td>\n",
       "      <td>0.5</td>\n",
       "      <td>0.00</td>\n",
       "      <td>0.0</td>\n",
       "      <td>1.0</td>\n",
       "      <td>20.85</td>\n",
       "      <td>0.0</td>\n",
       "      <td>1.25</td>\n",
       "    </tr>\n",
       "    <tr>\n",
       "      <th>4</th>\n",
       "      <td>2</td>\n",
       "      <td>2023-01-01 00:10:29</td>\n",
       "      <td>2023-01-01 00:21:19</td>\n",
       "      <td>1.0</td>\n",
       "      <td>1.43</td>\n",
       "      <td>1.0</td>\n",
       "      <td>N</td>\n",
       "      <td>107</td>\n",
       "      <td>79</td>\n",
       "      <td>1</td>\n",
       "      <td>11.4</td>\n",
       "      <td>1.00</td>\n",
       "      <td>0.5</td>\n",
       "      <td>3.28</td>\n",
       "      <td>0.0</td>\n",
       "      <td>1.0</td>\n",
       "      <td>19.68</td>\n",
       "      <td>2.5</td>\n",
       "      <td>0.00</td>\n",
       "    </tr>\n",
       "  </tbody>\n",
       "</table>\n",
       "</div>"
      ],
      "text/plain": [
       "   VendorID tpep_pickup_datetime tpep_dropoff_datetime  passenger_count  \\\n",
       "0         2  2023-01-01 00:32:10   2023-01-01 00:40:36              1.0   \n",
       "1         2  2023-01-01 00:55:08   2023-01-01 01:01:27              1.0   \n",
       "2         2  2023-01-01 00:25:04   2023-01-01 00:37:49              1.0   \n",
       "3         1  2023-01-01 00:03:48   2023-01-01 00:13:25              0.0   \n",
       "4         2  2023-01-01 00:10:29   2023-01-01 00:21:19              1.0   \n",
       "\n",
       "   trip_distance  RatecodeID store_and_fwd_flag  PULocationID  DOLocationID  \\\n",
       "0           0.97         1.0                  N           161           141   \n",
       "1           1.10         1.0                  N            43           237   \n",
       "2           2.51         1.0                  N            48           238   \n",
       "3           1.90         1.0                  N           138             7   \n",
       "4           1.43         1.0                  N           107            79   \n",
       "\n",
       "   payment_type  fare_amount  extra  mta_tax  tip_amount  tolls_amount  \\\n",
       "0             2          9.3   1.00      0.5        0.00           0.0   \n",
       "1             1          7.9   1.00      0.5        4.00           0.0   \n",
       "2             1         14.9   1.00      0.5       15.00           0.0   \n",
       "3             1         12.1   7.25      0.5        0.00           0.0   \n",
       "4             1         11.4   1.00      0.5        3.28           0.0   \n",
       "\n",
       "   improvement_surcharge  total_amount  congestion_surcharge  airport_fee  \n",
       "0                    1.0         14.30                   2.5         0.00  \n",
       "1                    1.0         16.90                   2.5         0.00  \n",
       "2                    1.0         34.90                   2.5         0.00  \n",
       "3                    1.0         20.85                   0.0         1.25  \n",
       "4                    1.0         19.68                   2.5         0.00  "
      ]
     },
     "execution_count": 9,
     "metadata": {},
     "output_type": "execute_result"
    }
   ],
   "source": [
    "df.head()"
   ]
  },
  {
   "cell_type": "markdown",
   "id": "c8329cc9",
   "metadata": {},
   "source": [
    "### Calculate Duration in Minutes"
   ]
  },
  {
   "cell_type": "code",
   "execution_count": 10,
   "id": "d132bb9b",
   "metadata": {},
   "outputs": [],
   "source": [
    "df['duration'] = df.tpep_dropoff_datetime - df.tpep_pickup_datetime\n",
    "df.duration = df.duration.apply(lambda td: td.total_seconds() / 60)"
   ]
  },
  {
   "cell_type": "markdown",
   "id": "3de7235d",
   "metadata": {},
   "source": [
    "### Standard Deviation for Duration"
   ]
  },
  {
   "cell_type": "code",
   "execution_count": 13,
   "id": "28a7cb51",
   "metadata": {},
   "outputs": [
    {
     "name": "stdout",
     "output_type": "stream",
     "text": [
      "Standard Deviation of Duration: 42.59435124195458\n"
     ]
    }
   ],
   "source": [
    "print(f\"Standard Deviation of Duration: {df['duration'].std()}\")"
   ]
  },
  {
   "cell_type": "markdown",
   "id": "9458688e",
   "metadata": {},
   "source": [
    "### Number of Records in the data"
   ]
  },
  {
   "cell_type": "code",
   "execution_count": 14,
   "id": "37f375c6",
   "metadata": {},
   "outputs": [
    {
     "name": "stdout",
     "output_type": "stream",
     "text": [
      "Original Count: 3066766\n"
     ]
    }
   ],
   "source": [
    "df_original_count = df.shape[0]\n",
    "print(f\"Original Count: {df_original_count}\")"
   ]
  },
  {
   "cell_type": "markdown",
   "id": "5d88a1d5",
   "metadata": {},
   "source": [
    "### Remove Outliers and Check the Percentage of data that remains"
   ]
  },
  {
   "cell_type": "code",
   "execution_count": 15,
   "id": "6c3b3a7e",
   "metadata": {},
   "outputs": [
    {
     "name": "stdout",
     "output_type": "stream",
     "text": [
      "Filtered Count Percentage: 98.12%\n"
     ]
    }
   ],
   "source": [
    "df = df[(df.duration >= 1) & (df.duration <= 60)]\n",
    "print(f\"Filtered Count Percentage: {df.shape[0] / df_original_count * 100:.2f}%\")"
   ]
  },
  {
   "cell_type": "markdown",
   "id": "e8ee5783",
   "metadata": {},
   "source": [
    "### Define the Categorical and Numerical Columns"
   ]
  },
  {
   "cell_type": "code",
   "execution_count": 16,
   "id": "cd641e18",
   "metadata": {},
   "outputs": [],
   "source": [
    "# Define the categorical and numerical columns to be used\n",
    "categorical = ['PULocationID', 'DOLocationID']\n",
    "numerical = ['trip_distance']\n",
    "\n",
    "# Convert the categorical columns to string type\n",
    "df[categorical] = df[categorical].astype(str)"
   ]
  },
  {
   "cell_type": "markdown",
   "id": "051a90a1",
   "metadata": {},
   "source": [
    "### Convert the Selected Columns into a List of Dictionaries"
   ]
  },
  {
   "cell_type": "code",
   "execution_count": 17,
   "id": "4159cd51",
   "metadata": {},
   "outputs": [],
   "source": [
    "# Convert the selected columns (categorical and numerical) of the dataframe into a list of dictionaries\n",
    "# Each dictionary represents a row in the dataframe with the specified columns\n",
    "train_dicts = df[categorical + numerical].to_dict(orient='records')"
   ]
  },
  {
   "cell_type": "markdown",
   "id": "fb152d42",
   "metadata": {},
   "source": [
    "### Initialize a DictVectorizer and create X_train set"
   ]
  },
  {
   "cell_type": "code",
   "execution_count": 18,
   "id": "732fb44e",
   "metadata": {},
   "outputs": [],
   "source": [
    "# Initialize a DictVectorizer instance to convert dictionaries to a feature matrix\n",
    "dv = DictVectorizer()\n",
    "\n",
    "# Fit the DictVectorizer on the training data (list of dictionaries) and transform it into a sparse matrix\n",
    "X_train = dv.fit_transform(train_dicts)"
   ]
  },
  {
   "cell_type": "markdown",
   "id": "c7216004",
   "metadata": {},
   "source": [
    "### Display the shape of X_train"
   ]
  },
  {
   "cell_type": "code",
   "execution_count": 22,
   "id": "05fb0c79",
   "metadata": {},
   "outputs": [
    {
     "data": {
      "text/plain": [
       "(3009173, 516)"
      ]
     },
     "execution_count": 22,
     "metadata": {},
     "output_type": "execute_result"
    }
   ],
   "source": [
    "# The `X_train` variable is a Compressed Sparse Row (CSR) matrix.\n",
    "# It is a sparse representation of the feature matrix created using the DictVectorizer.\n",
    "# The matrix has 3,009,173 rows (one for each training sample) and 516 columns (one for each feature).\n",
    "# It contains 9,027,519 non-zero elements, which represent the encoded feature values.\n",
    "X_train.shape"
   ]
  },
  {
   "cell_type": "markdown",
   "id": "6f816a74",
   "metadata": {},
   "source": [
    "### Train a Linear Regression Model and Evaluate on Validation Set"
   ]
  },
  {
   "cell_type": "code",
   "execution_count": 23,
   "id": "b6131f92",
   "metadata": {},
   "outputs": [
    {
     "name": "stdout",
     "output_type": "stream",
     "text": [
      "RMSE: 7.66\n"
     ]
    }
   ],
   "source": [
    "# Define the target variable for prediction\n",
    "target = 'duration'\n",
    "\n",
    "# Extract the target variable values from the dataframe as a numpy array\n",
    "y_train = df[target].values\n",
    "\n",
    "# Initialize a Linear Regression model\n",
    "lr = LinearRegression()\n",
    "\n",
    "# Train the Linear Regression model using the training data (X_train) and target variable (y_train)\n",
    "lr.fit(X_train, y_train)\n",
    "\n",
    "# Predict the target variable using the trained model on the training data\n",
    "y_pred = lr.predict(X_train)\n",
    "\n",
    "# Calculate and return the Root Mean Squared Error (RMSE) between the actual and predicted values\n",
    "print(f\"RMSE: {root_mean_squared_error(y_train, y_pred):.2f}\")"
   ]
  },
  {
   "cell_type": "code",
   "execution_count": 24,
   "id": "74c2d29d",
   "metadata": {},
   "outputs": [],
   "source": [
    "import warnings\n",
    "warnings.filterwarnings(\"ignore\")"
   ]
  },
  {
   "cell_type": "markdown",
   "id": "4685ef42",
   "metadata": {},
   "source": [
    "### Plot the kdeplot for prediction and training set"
   ]
  },
  {
   "cell_type": "code",
   "execution_count": 25,
   "id": "e2928094",
   "metadata": {},
   "outputs": [
    {
     "data": {
      "image/png": "[encoded data removed]",
      "text/plain": [
       "<Figure size 640x480 with 1 Axes>"
      ]
     },
     "metadata": {},
     "output_type": "display_data"
    }
   ],
   "source": [
    "sns.kdeplot(y_pred, label='prediction')\n",
    "sns.kdeplot(y_train, label='actual')\n",
    "plt.legend()\n",
    "plt.show()"
   ]
  },
  {
   "cell_type": "markdown",
   "id": "1d519736",
   "metadata": {},
   "source": [
    "### Function: `read_dataframe`\n",
    "\n",
    "This function reads a dataset from a file (either `.csv` or `.parquet`), processes it, and returns a cleaned pandas DataFrame. The key steps performed by the function are:"
   ]
  },
  {
   "cell_type": "code",
   "execution_count": 26,
   "id": "6d3455dd",
   "metadata": {},
   "outputs": [],
   "source": [
    "def read_dataframe(filename):\n",
    "    if filename.endswith('.csv'):\n",
    "        df = pd.read_csv(filename)\n",
    "\n",
    "        df.tpep_dropoff_datetime = pd.to_datetime(df.tpep_dropoff_datetime)\n",
    "        df.tpep_pickup_datetime = pd.to_datetime(df.tpep_pickup_datetime)\n",
    "    elif filename.endswith('.parquet'):\n",
    "        df = pd.read_parquet(filename)\n",
    "\n",
    "    df['duration'] = df.tpep_dropoff_datetime - df.tpep_pickup_datetime\n",
    "    df.duration = df.duration.apply(lambda td: td.total_seconds() / 60)\n",
    "\n",
    "    df = df[(df.duration >= 1) & (df.duration <= 60)]\n",
    "\n",
    "    categorical = ['PULocationID', 'DOLocationID']\n",
    "    df[categorical] = df[categorical].astype(str)\n",
    "    \n",
    "    return df"
   ]
  },
  {
   "cell_type": "markdown",
   "id": "4b7ba8c9",
   "metadata": {},
   "source": [
    "### Read Training and Validation Datasets"
   ]
  },
  {
   "cell_type": "code",
   "execution_count": 27,
   "id": "96c37b49",
   "metadata": {},
   "outputs": [],
   "source": [
    "df_train = read_dataframe('../data/yellow_tripdata_2023-01.parquet')\n",
    "df_val = read_dataframe('../data/yellow_tripdata_2023-02.parquet')"
   ]
  },
  {
   "cell_type": "code",
   "execution_count": 28,
   "id": "ec585773",
   "metadata": {},
   "outputs": [
    {
     "data": {
      "text/plain": [
       "(3009173, 2855951)"
      ]
     },
     "execution_count": 28,
     "metadata": {},
     "output_type": "execute_result"
    }
   ],
   "source": [
    "len(df_train), len(df_val)"
   ]
  },
  {
   "cell_type": "code",
   "execution_count": null,
   "id": "df05a6c5",
   "metadata": {},
   "outputs": [],
   "source": [
    "# Create a new column 'PU_DO' in the training dataset by concatenating 'PULocationID' and 'DOLocationID' with an underscore\n",
    "df_train['PU_DO'] = df_train['PULocationID'] + '_' + df_train['DOLocationID']\n",
    "\n",
    "# Create a new column 'PU_DO' in the validation dataset by concatenating 'PULocationID' and 'DOLocationID' with an underscore\n",
    "df_val['PU_DO'] = df_val['PULocationID'] + '_' + df_val['DOLocationID']"
   ]
  },
  {
   "cell_type": "code",
   "execution_count": 30,
   "id": "d47db13a",
   "metadata": {},
   "outputs": [],
   "source": [
    "# Update the categorical and numerical columns to be used\n",
    "categorical = ['PU_DO']  # Use the combined pickup and drop-off location column\n",
    "numerical = ['trip_distance']  # Use trip distance as the numerical feature\n",
    "\n",
    "# Initialize a DictVectorizer instance to convert dictionaries to a feature matrix\n",
    "dv = DictVectorizer()\n",
    "\n",
    "# Convert the training dataset into a list of dictionaries using the selected columns\n",
    "train_dicts = df_train[categorical + numerical].to_dict(orient='records')\n",
    "\n",
    "# Fit the DictVectorizer on the training data and transform it into a sparse matrix\n",
    "X_train = dv.fit_transform(train_dicts)\n",
    "\n",
    "# Convert the validation dataset into a list of dictionaries using the selected columns\n",
    "val_dicts = df_val[categorical + numerical].to_dict(orient='records')\n",
    "\n",
    "# Transform the validation data into a sparse matrix using the already fitted DictVectorizer\n",
    "X_val = dv.transform(val_dicts)"
   ]
  },
  {
   "cell_type": "code",
   "execution_count": 31,
   "id": "27dc76cb",
   "metadata": {},
   "outputs": [],
   "source": [
    "# Define the target variable for prediction\n",
    "target = 'duration'\n",
    "\n",
    "# Extract the target variable values from the training dataset as a numpy array\n",
    "y_train = df_train[target].values\n",
    "\n",
    "# Extract the target variable values from the validation dataset as a numpy array\n",
    "y_val = df_val[target].values"
   ]
  },
  {
   "cell_type": "markdown",
   "id": "a42745f7",
   "metadata": {},
   "source": [
    "### Train a Linear Regression Model"
   ]
  },
  {
   "cell_type": "code",
   "execution_count": 32,
   "id": "0e5729d2",
   "metadata": {},
   "outputs": [
    {
     "name": "stdout",
     "output_type": "stream",
     "text": [
      "RMSE for Validation Set: 5.26\n"
     ]
    }
   ],
   "source": [
    "# Initialize a Linear Regression model\n",
    "lr = LinearRegression()\n",
    "\n",
    "# Train the Linear Regression model using the training data (X_train) and target variable (y_train)\n",
    "lr.fit(X_train, y_train)\n",
    "\n",
    "# Predict the target variable using the trained model on the validation data\n",
    "y_pred = lr.predict(X_val)\n",
    "\n",
    "# Calculate and return the Root Mean Squared Error (RMSE) between the actual and predicted values\n",
    "print(f\"RMSE for Validation Set: {root_mean_squared_error(y_val, y_pred):.2f}\")"
   ]
  },
  {
   "cell_type": "markdown",
   "id": "b926079c",
   "metadata": {},
   "source": [
    "### Save the created model"
   ]
  },
  {
   "cell_type": "code",
   "execution_count": 33,
   "id": "26adf5e9",
   "metadata": {},
   "outputs": [],
   "source": [
    "with open('models/lin_reg.bin', 'wb') as f_out:\n",
    "    pickle.dump((dv, lr), f_out)"
   ]
  },
  {
   "cell_type": "markdown",
   "id": "6d0a3227",
   "metadata": {},
   "source": [
    "### Redo the same model using Lasso"
   ]
  },
  {
   "cell_type": "code",
   "execution_count": 34,
   "id": "5c2ba908",
   "metadata": {},
   "outputs": [
    {
     "name": "stdout",
     "output_type": "stream",
     "text": [
      "RMSE for Validation Set with Lasso: 9.40\n"
     ]
    }
   ],
   "source": [
    "lr = Lasso(0.01)\n",
    "lr.fit(X_train, y_train)\n",
    "\n",
    "y_pred = lr.predict(X_val)\n",
    "\n",
    "print(f\"RMSE for Validation Set with Lasso: {root_mean_squared_error(y_val, y_pred):.2f}\")"
   ]
  },
  {
   "cell_type": "code",
   "execution_count": null,
   "id": "f2e438b3",
   "metadata": {},
   "outputs": [],
   "source": []
  }
 ],
 "metadata": {
  "kernelspec": {
   "display_name": "Python 3",
   "language": "python",
   "name": "python3"
  },
  "language_info": {
   "codemirror_mode": {
    "name": "ipython",
    "version": 3
   },
   "file_extension": ".py",
   "mimetype": "text/x-python",
   "name": "python",
   "nbconvert_exporter": "python",
   "pygments_lexer": "ipython3",
   "version": "3.12.1"
  }
 },
 "nbformat": 4,
 "nbformat_minor": 5
}
